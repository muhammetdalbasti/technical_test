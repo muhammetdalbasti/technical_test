{
 "cells": [
  {
   "cell_type": "code",
   "execution_count": null,
   "id": "0f5e6c09",
   "metadata": {},
   "outputs": [],
   "source": [
    "pip install selenium"
   ]
  },
  {
   "cell_type": "code",
   "execution_count": null,
   "id": "687f3a09",
   "metadata": {},
   "outputs": [],
   "source": [
    "# Importing libraries for web scraping and data analysis\n",
    "from selenium import webdriver  # For web scraping\n",
    "from selenium.webdriver.chrome.options import Options  # Customizing Chrome options\n",
    "from selenium.webdriver.common.by import By  # Locating elements on web pages\n",
    "\n",
    "import pandas as pd  # Data manipulation and analysis\n",
    "import numpy as np  # Numerical computing\n",
    "import matplotlib.pyplot as plt  # Plotting\n",
    "import seaborn as sns  # Statistical data visualization\n",
    "\n",
    "import time  # Working with time-related tasks"
   ]
  },
  {
   "cell_type": "markdown",
   "id": "e0436c41",
   "metadata": {},
   "source": [
    "## Scraping"
   ]
  },
  {
   "cell_type": "markdown",
   "id": "05707666",
   "metadata": {},
   "source": [
    "This code snippet demonstrates web scraping using Selenium to extract financial data for the company TESLA (TSLA) from Yahoo Finance.\n",
    "It initializes a Chrome driver with specified options, navigates to the TSLA stock page, and handles cookie consent if present.\n",
    "The code then selects the \"Profile\" and \"Financials\" tabs to retrieve relevant information.\n",
    "\n",
    "The code first retrieves the number of Full Time Employees from the \"Profile\" tab and prints it.\n",
    "\n",
    "Moving to the \"Financials\" tab, the code extracts the Total Revenue for the years 2020, 2021, and 2022.\n",
    "The revenue figures are converted to integer values and multiplied by 1000 to represent the actual revenue amounts.\n",
    "\n",
    "Next, the code retrieves the Operating Income for the same years, following a similar approach as with Total Revenue.\n",
    "\n",
    "Additionally, the code expands the \"Selling General and Administrative Expense (SG&A)\" section on the \"Financials\" tab.\n",
    "It then retrieves the SG&A expenses for the years 2020, 2021, and 2022, using the same conversion and multiplication steps.\n",
    "\n",
    "Each extracted value is printed, providing insights into the financial performance of TESLA.\n",
    "\n",
    "Note: The code includes explicit time.sleep() statements to allow for appropriate delays during page loading and element retrieval.\n",
    "Implicit waits are also applied to ensure sufficient time for elements to be found on the page.\n",
    "These delays may need to be adjusted based on the website's loading speed and performance.\n"
   ]
  },
  {
   "cell_type": "code",
   "execution_count": null,
   "id": "22758bb8",
   "metadata": {},
   "outputs": [],
   "source": [
    "options = Options()\n",
    "options.add_argument(\"--lang=en\")\n",
    "\n",
    "driver = webdriver.Chrome(options=options)\n",
    "driver.get(\"https://finance.yahoo.com/quote/TSLA/\")\n",
    "\n",
    "time.sleep(2)\n",
    "try:\n",
    "    driver.find_element(By.ID, 'scroll-down-btn').click() #Go down button\n",
    "    time.sleep(3)\n",
    "except:\n",
    "    driver.find_element(By.XPATH, '//*[@id=\"consent-page\"]/div/div/div/form/div[2]/div[2]/button[1]').click() #Accept All button\n",
    "    print(\"cookies are closed!\")\n",
    "    \n",
    "driver.implicitly_wait(30) \n",
    "\n",
    "driver.find_element(By.XPATH, '//*[@id=\"quote-nav\"]/ul/li[6]/a').click()\n",
    "time.sleep(5)\n",
    "print(\"Profile tab selected\")\n",
    "\n",
    "FTE = driver.find_element(By.XPATH, '//*[@id=\"Col1-0-Profile-Proxy\"]/section/div[1]/div/div/p[2]/span[6]').text\n",
    "FTE = int(FTE.replace(',', ''))\n",
    "print(\"Full Time Employees: \",FTE) #Full Time Employees number\n",
    "time.sleep(2)\n",
    "\n",
    "driver.find_element(By.XPATH, '//*[@id=\"quote-nav\"]/ul/li[7]/a').click()\n",
    "time.sleep(5)\n",
    "print(\"Financials tab selected\")\n",
    "\n",
    "# REVENUE\n",
    "Tot_Rev_2020 = driver.find_element(By.XPATH, '//*[@id=\"Col1-1-Financials-Proxy\"]/section/div[3]/div[1]/div/div[2]/div[1]/div[1]/div[5]').text\n",
    "Tot_Rev_2020 = int(Tot_Rev_2020.replace(',', '')) * 1000\n",
    "print(\"Total Revenue in 2020: \", Tot_Rev_2020) #Total Revenue in 2020\n",
    "time.sleep(2)\n",
    "\n",
    "Tot_Rev_2021 = driver.find_element(By.XPATH, '//*[@id=\"Col1-1-Financials-Proxy\"]/section/div[3]/div[1]/div/div[2]/div[1]/div[1]/div[4]').text\n",
    "Tot_Rev_2021 = int(Tot_Rev_2021.replace(',', ''))* 1000\n",
    "print(\"Total Revenue in 2021: \", Tot_Rev_2021) #Total Revenue in 2021\n",
    "time.sleep(2)\n",
    "\n",
    "Tot_Rev_2022 = driver.find_element(By.XPATH, '//*[@id=\"Col1-1-Financials-Proxy\"]/section/div[3]/div[1]/div/div[2]/div[1]/div[1]/div[3]').text\n",
    "Tot_Rev_2022 = int(Tot_Rev_2022.replace(',', ''))* 1000\n",
    "print(\"Total Revenue in 2022: \", Tot_Rev_2022) #Total Revenue in 2022\n",
    "time.sleep(2)\n",
    "\n",
    "\n",
    "# OPERATING INCOME\n",
    "Operating_Income_2020 = driver.find_element(By.XPATH, '//*[@id=\"Col1-1-Financials-Proxy\"]/section/div[3]/div[1]/div/div[2]/div[5]/div[1]/div[5]').text\n",
    "Operating_Income_2020 = int(Operating_Income_2020.replace(',', ''))* 1000\n",
    "print(\"Operating Income in 2020: \", Operating_Income_2020) #Operating Income in 2020\n",
    "time.sleep(2)\n",
    "\n",
    "Operating_Income_2021 = driver.find_element(By.XPATH, '//*[@id=\"Col1-1-Financials-Proxy\"]/section/div[3]/div[1]/div/div[2]/div[5]/div[1]/div[4]').text\n",
    "Operating_Income_2021 = int(Operating_Income_2021.replace(',', ''))* 1000\n",
    "print(\"Operating Income in 2021: \", Operating_Income_2021) #Operating Income in 2021\n",
    "time.sleep(2)\n",
    "\n",
    "Operating_Income_2022 = driver.find_element(By.XPATH, '//*[@id=\"Col1-1-Financials-Proxy\"]/section/div[3]/div[1]/div/div[2]/div[5]/div[1]/div[3]').text\n",
    "Operating_Income_2022 = int(Operating_Income_2022.replace(',', ''))* 1000\n",
    "print(\"Operating Income in 2022: \", Operating_Income_2022) #Operating Income in 2022\n",
    "time.sleep(2)\n",
    "\n",
    "\n",
    "driver.find_element(By.XPATH, '//*[@id=\"Col1-1-Financials-Proxy\"]/section/div[3]/div[1]/div/div[2]/div[4]/div[1]/div[1]/div[1]/button').click() #Clicking arrow button to make SG&A tab visible.\n",
    "time.sleep(1)\n",
    "\n",
    "# Selling General and Administrative Expense\n",
    "SGA_2020 = driver.find_element(By.XPATH, '//*[@id=\"Col1-1-Financials-Proxy\"]/section/div[3]/div[1]/div/div[2]/div[4]/div[2]/div[1]/div[1]/div[5]').text\n",
    "SGA_2020 = int(SGA_2020.replace(',', ''))* 1000\n",
    "print(\"SG&A in 2020: \", SGA_2020) # SG&A Expense in 2020\n",
    "time.sleep(2)\n",
    "\n",
    "SGA_2021 = driver.find_element(By.XPATH, '//*[@id=\"Col1-1-Financials-Proxy\"]/section/div[3]/div[1]/div/div[2]/div[4]/div[2]/div[1]/div[1]/div[4]').text\n",
    "SGA_2021 = int(SGA_2021.replace(',', ''))* 1000\n",
    "print(\"SG&A in 2021: \", SGA_2021) # SG&A Expense in 2021\n",
    "time.sleep(2)\n",
    "\n",
    "SGA_2022 = driver.find_element(By.XPATH, '//*[@id=\"Col1-1-Financials-Proxy\"]/section/div[3]/div[1]/div/div[2]/div[4]/div[2]/div[1]/div[1]/div[3]').text\n",
    "SGA_2022 = int(SGA_2022.replace(',', ''))* 1000\n",
    "print(\"SG&A in 2022: \", SGA_2022) # SG&A Expense in 2022\n",
    "time.sleep(2)"
   ]
  },
  {
   "cell_type": "markdown",
   "id": "b7935db8",
   "metadata": {},
   "source": [
    "## Dataframe"
   ]
  },
  {
   "cell_type": "markdown",
   "id": "d8e13ce7",
   "metadata": {},
   "source": [
    "This code snippet creates a dictionary called data that holds the financial metrics for a company. The metrics include \"Total Revenue,\" \"Operating Income,\" \"SG&A Expense,\" and \"Employees #.\" The corresponding values for each metric are stored in lists under the respective years of 2022, 2021, and 2020.\n",
    "\n",
    "After defining the data dictionary, the code uses it to create a pandas DataFrame called df. The DataFrame is constructed using the pd.DataFrame() function, which takes the data dictionary as input. Each list of values in the data dictionary becomes a column in the DataFrame, with the metrics as the index."
   ]
  },
  {
   "cell_type": "code",
   "execution_count": null,
   "id": "72c652e3",
   "metadata": {},
   "outputs": [],
   "source": [
    "data = {'Metrics': ['Total Revenue', 'Operating Income', 'SG&A Expense', 'Employees #'],\n",
    "        '2022': [Tot_Rev_2022, Operating_Income_2022, SGA_2022, FTE],\n",
    "        '2021': [Tot_Rev_2021, Operating_Income_2021, SGA_2021, 0],\n",
    "        '2020': [Tot_Rev_2020, Operating_Income_2020, SGA_2020, 0]}\n",
    "\n",
    "df = pd.DataFrame(data)\n",
    "df.set_index('Metrics', inplace=True)\n",
    "df.head()"
   ]
  },
  {
   "cell_type": "markdown",
   "id": "0cc7d877",
   "metadata": {},
   "source": [
    "## Operating Margin\n",
    "\n",
    "**Operating margin** is a financial metric that represents the percentage of a company's revenue that is left over after deducting the operating expenses. It is also known as operating income margin or EBIT margin (earnings before interest and taxes).\n",
    "\n",
    "> Operating Margin = Operating Income / Total Revenue\n"
   ]
  },
  {
   "cell_type": "code",
   "execution_count": null,
   "id": "a20f0d08",
   "metadata": {},
   "outputs": [],
   "source": [
    "Operating_Margin_2022 = '%.2f%%' % ((df.loc['Operating Income', '2022'] / df.loc['Total Revenue', '2022']) * 100)\n",
    "Operating_Margin_2021 = '%.2f%%' % ((df.loc['Operating Income', '2021'] / df.loc['Total Revenue', '2021']) * 100)\n",
    "Operating_Margin_2020 = '%.2f%%' % ((df.loc['Operating Income', '2020'] / df.loc['Total Revenue', '2020']) * 100)\n",
    "\n",
    "\n",
    "print(\"Operating margin for the year of 2022 is\", Operating_Margin_2022)\n",
    "print(\"Operating margin for the year of 2021 is\", Operating_Margin_2021)\n",
    "print(\"Operating margin for the year of 2020 is\", Operating_Margin_2020)"
   ]
  },
  {
   "cell_type": "markdown",
   "id": "5dc7d62e",
   "metadata": {},
   "source": [
    "## 3-year Revenue Growth\n",
    "\n",
    "**3-year revenue growth** is a financial metric that measures the percentage increase or decrease in a company's revenue over a three-year period. It is used to evaluate a company's growth trajectory and can provide insight into its ability to generate more revenue over time.\n",
    "\n",
    "To calculate the 3-year revenue growth rate, you can use the following formula:\n",
    "\n",
    " > 3-Year Revenue Growth = ((Revenue in Current Year / Revenue in Previous Year)^1/3 - 1) * 100"
   ]
  },
  {
   "cell_type": "code",
   "execution_count": null,
   "id": "58c2515f",
   "metadata": {},
   "outputs": [],
   "source": [
    "growth_rate = ((df.loc['Total Revenue', '2022'] / df.loc['Total Revenue', '2020']) ** (1/2) - 1) * 100\n",
    "\n",
    "print(f\"The 3-year revenue growth rate from 2020 to 2022 is {growth_rate:.2f}%.\")\n"
   ]
  },
  {
   "cell_type": "markdown",
   "id": "e5bfa8ff",
   "metadata": {},
   "source": [
    "## Revenue per employee\n",
    "\n",
    "**revenue per total employee**, is a financial metric that measures the amount of revenue generated per employee in a company. It is calculated by dividing a company's total revenue by its total number of employees. This metric can help to evaluate a company's productivity and efficiency in generating revenue with its workforce.\n",
    "\n",
    "> Revenue per Employee = Total Revenue / Total Number of Employees"
   ]
  },
  {
   "cell_type": "markdown",
   "id": "140f11be",
   "metadata": {},
   "source": [
    "To calculate the revenue per total employee for the 2022 year, we can use the Total Revenue and Employees # metrics from the dataframe and divide the Total Revenue by the number of Employees:"
   ]
  },
  {
   "cell_type": "code",
   "execution_count": null,
   "id": "d7919991",
   "metadata": {},
   "outputs": [],
   "source": [
    "Revenue_per_Employee = df.loc['Total Revenue', '2022'] / df.loc['Employees #', '2022']\n",
    "\n",
    "print(\"Therefore, generated approximately ${:.2f} in revenue per employee in 2022.\".format(Revenue_per_Employee))\n"
   ]
  },
  {
   "cell_type": "markdown",
   "id": "95cee751",
   "metadata": {},
   "source": [
    "## SG&A Margin\n",
    "\n",
    "**SG&A margin** as a % of revenues is a financial metric that measures a company's selling, general, and administrative expenses (SG&A) as a percentage of its total revenue. SG&A expenses include costs such as salaries, advertising, and office supplies. A higher SG&A margin indicates that a company is spending more on these types of expenses relative to its revenue.\n",
    "\n",
    "> SG&A Margin as a % of Revenues = (SG&A Expenses / Total Revenue) x 100"
   ]
  },
  {
   "cell_type": "code",
   "execution_count": null,
   "id": "809d6a44",
   "metadata": {},
   "outputs": [],
   "source": [
    "sga_margin_2022 = (df.loc['SG&A Expense', '2022'] / df.loc['Total Revenue', '2022']) * 100\n",
    "sga_margin_2021 = (df.loc['SG&A Expense', '2021'] / df.loc['Total Revenue', '2021']) * 100\n",
    "sga_margin_2020 = (df.loc['SG&A Expense', '2020'] / df.loc['Total Revenue', '2020']) * 100\n",
    "\n",
    "\n",
    "print(\"The SG&A margin for 2022 is {:.2f}%\".format(sga_margin_2022))\n",
    "print(\"The SG&A margin for 2021 is {:.2f}%\".format(sga_margin_2021))\n",
    "print(\"The SG&A margin for 2020 is {:.2f}%\".format(sga_margin_2020))"
   ]
  },
  {
   "cell_type": "markdown",
   "id": "297efe3f",
   "metadata": {},
   "source": [
    "According to Tesla's SG&A margin for 2022, selling, general, and administrative costs represent about 4.84% of the company's total revenue. Expenses connected to marketing, advertising, salaries, and other aspects of running a business on a daily basis are included in this regular expenditure for businesses.\n",
    "\n",
    "Generally speaking, a smaller SG&A margin is preferable since it indicates that the company is able to keep costs in check and dedicate more of its revenue to other parts of the organization.\n",
    "\n",
    "Overall, Tesla's SG&A margin of 4.84% appears respectable, especially in light of the company's rapid expansion and rising product demand."
   ]
  },
  {
   "cell_type": "code",
   "execution_count": null,
   "id": "d9ce73a7",
   "metadata": {},
   "outputs": [],
   "source": [
    "# create a bar chart of the total revenue for each year\n",
    "sns.barplot(x=df.columns, y=df.loc['Total Revenue'])\n",
    "\n",
    "# set the title and axis labels\n",
    "plt.title('Tesla Total Revenue by Year')\n",
    "plt.xlabel('Year')\n",
    "plt.ylabel('Total Revenue (in billions)')\n",
    "\n",
    "# show the chart\n",
    "plt.show()"
   ]
  }
 ],
 "metadata": {
  "kernelspec": {
   "display_name": "Python 3 (ipykernel)",
   "language": "python",
   "name": "python3"
  },
  "language_info": {
   "codemirror_mode": {
    "name": "ipython",
    "version": 3
   },
   "file_extension": ".py",
   "mimetype": "text/x-python",
   "name": "python",
   "nbconvert_exporter": "python",
   "pygments_lexer": "ipython3",
   "version": "3.10.9"
  }
 },
 "nbformat": 4,
 "nbformat_minor": 5
}
